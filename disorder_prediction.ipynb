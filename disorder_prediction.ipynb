{
 "cells": [
  {
   "cell_type": "code",
   "execution_count": 1,
   "metadata": {},
   "outputs": [],
   "source": [
    "import pandas\n",
    "import numpy\n",
    "import subprocess\n",
    "from concurrent.futures import ThreadPoolExecutor\n",
    "import os\n",
    "from intermediate import Intermediate"
   ]
  },
  {
   "cell_type": "markdown",
   "metadata": {},
   "source": [
    "Performs initial read in of bioplex3 and uniprot data as well as filtration of interactions into shared and unique interactions of each cell line. \n",
    "\\\n",
    "\\\n",
    "Default input of class is a list of file paths as such         \n",
    "\\\n",
    "input=[ \"Data/BioPlex_293T_Network_10K_Dec_2019.tsv\", \"Data/BioPlex_HCT116_Network_5.5K_Dec_2019.tsv\", \"Data/Huttlin_BioPlex3_Table_S1.xlsb\", \"Data/uniprotkb_AND_reviewed_true_AND_model_o_2024_02_28.fasta\",]\n",
    "\\\n",
    "\\\n",
    "But may be changed if necessary\n",
    "\\\n",
    "\\\n",
    "Write may be set to true to write csv files of unique and shared interactions to folder '/Data/Interactions'"
   ]
  },
  {
   "cell_type": "code",
   "execution_count": 2,
   "metadata": {},
   "outputs": [],
   "source": [
    "#Generates necessary interaction and sequence data\n",
    "seq_data = Intermediate(write ='False')\n",
    "\n",
    "#Creates list of all proteins present in interaction data\n",
    "all_proteins =  pandas.concat([seq_data.proteins_293T, seq_data.proteins_HCT116, seq_data.proteins_shared]).drop_duplicates()\n",
    "\n",
    "#Creates list of all proteins present in interaction data\n",
    "filt = seq_data.sequence_df['ID'].isin(all_proteins)\n",
    "protein_sequences = seq_data.sequence_df[filt]"
   ]
  },
  {
   "cell_type": "markdown",
   "metadata": {},
   "source": [
    "Functions utilizing concurrentfutures Threadpoolexecutor to run parallell executions of IuPred3 predictions\n",
    "\\\n",
    "This greatly lowers the total runtime of the prediction as IuPred may only take one sequence at a time but of course rquires more computational resource"
   ]
  },
  {
   "cell_type": "code",
   "execution_count": 3,
   "metadata": {},
   "outputs": [],
   "source": [
    "#Runs IuPred3 on one sequence\n",
    "def process_sequence(sequence):\n",
    "    ID, sequence_text = sequence\n",
    "\n",
    "    #Creates sequence sepcific temp-file\n",
    "    temp_file = f'Data/Temp/{ID}_sequence.fasta'\n",
    "    with open(temp_file, 'w') as file:\n",
    "        file.write(f'>{ID}\\n{sequence_text}\\n')\n",
    "\n",
    "    #Runs 'long' prediction with IuPred3 from provided sequence stored in temp-file\n",
    "    result = subprocess.run(['python', 'iupred3/iupred3.py', temp_file, 'long'], stdout=subprocess.PIPE)\n",
    "    \n",
    "    #Decodes and truncates prediction output\n",
    "    decoded = result.stdout.decode('utf-8')\n",
    "    start_index = decoded.find(\"POS\\tRES\\tIUPRED2\") + len(\"POS\\tRES\\tIUPRED2\")\n",
    "    end_index = decoded.find(\"\\r\\n\\r\\n\", start_index)\n",
    "    output_string = decoded[start_index:end_index]\n",
    "\n",
    "    #Organises output into nice t-separated columns or something like that\n",
    "    lines = output_string.strip().split('\\r\\n')\n",
    "    data = [line.split('\\t') for line in lines]\n",
    "\n",
    "    #Picks out and returns ID and prediction values\n",
    "    pred_df = pandas.DataFrame(data, columns=['POS', 'RES', 'IUPRED2'])\n",
    "\n",
    "    #Removes temp-file\n",
    "    os.remove(temp_file)\n",
    "    return ID, pred_df['IUPRED2'].tolist()\n",
    "\n",
    "#Utilises concurrent futures ThreadPoolExecutor to run several predictions ata a time\n",
    "def iupred3_prediction(sequence_df):\n",
    "    #List of ID's and ascociated sequences\n",
    "    sequences = sequence_df[['ID', 'Sequence']].values.tolist()\n",
    "\n",
    "    #Runs parallel prediction and outputs a map of some sort (ID linked prediction values)\n",
    "    with ThreadPoolExecutor() as executor:\n",
    "        results = executor.map(process_sequence, sequences)\n",
    "\n",
    "    # Result Map --> Dictionary --> Dataframe\n",
    "    prediction_dict = {ID: predictions for ID, predictions in results}\n",
    "    df = pandas.DataFrame.from_dict(prediction_dict, orient='index')\n",
    "    return df"
   ]
  },
  {
   "cell_type": "markdown",
   "metadata": {},
   "source": [
    "Runs IuPred3 prediction for all proteins in BioPlex3.0 interaction data and writes to hdf5 file\n",
    "\n",
    "!!!OBSERVE!!! One run may take as much as 2 hours depending on pc-spec. This is why its commented. You have been warned"
   ]
  },
  {
   "cell_type": "code",
   "execution_count": 4,
   "metadata": {},
   "outputs": [],
   "source": [
    "# prediction_df = iupred3_prediction(protein_sequences).transpose()\n",
    "# prediction_df.to_hdf('Data/Predictions/iupred3_prediction.h5', key = 'prediction_df', mode = 'w')"
   ]
  }
 ],
 "metadata": {
  "kernelspec": {
   "display_name": "Kex",
   "language": "python",
   "name": "python3"
  },
  "language_info": {
   "codemirror_mode": {
    "name": "ipython",
    "version": 3
   },
   "file_extension": ".py",
   "mimetype": "text/x-python",
   "name": "python",
   "nbconvert_exporter": "python",
   "pygments_lexer": "ipython3",
   "version": "3.11.5"
  }
 },
 "nbformat": 4,
 "nbformat_minor": 2
}

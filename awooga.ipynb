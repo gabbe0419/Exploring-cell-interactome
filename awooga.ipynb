{
 "cells": [
  {
   "cell_type": "code",
   "execution_count": 1,
   "metadata": {},
   "outputs": [],
   "source": [
    "from IntrinsicDisorder.intermediate import Intermediate\n",
    "from IsoformAnalysis.FastaToDF import FastaToDF\n",
    "import IsoformAnalysis.IsoformAnalyzer as IsoformAnalyzer\n",
    "import IsoformAnalysis.Protein_matcher as ProteinMatcher"
   ]
  },
  {
   "cell_type": "code",
   "execution_count": 2,
   "metadata": {},
   "outputs": [],
   "source": [
    "interaction_data = Intermediate(\n",
    "    input=[\n",
    "        \"Data/BioPlex_293T_Network_10K_Dec_2019.tsv\",\n",
    "        \"Data/BioPlex_HCT116_Network_5.5K_Dec_2019.tsv\",\n",
    "        \"Data/Huttlin_BioPlex3_Table_S1.xlsb\",\n",
    "        \"Data/uniprotkb_AND_reviewed_true_AND_model_o_2024_02_28.fasta\",\n",
    "    ]\n",
    ")"
   ]
  },
  {
   "cell_type": "code",
   "execution_count": 3,
   "metadata": {},
   "outputs": [],
   "source": [
    "iso_lib = FastaToDF(\"Data/UP000005640_9606_additional.fasta\").fasta"
   ]
  },
  {
   "cell_type": "code",
   "execution_count": 4,
   "metadata": {},
   "outputs": [
    {
     "ename": "AttributeError",
     "evalue": "'DataFrame' object has no attribute 'sort'",
     "output_type": "error",
     "traceback": [
      "\u001b[1;31m---------------------------------------------------------------------------\u001b[0m",
      "\u001b[1;31mAttributeError\u001b[0m                            Traceback (most recent call last)",
      "\u001b[1;32m~\\AppData\\Local\\Temp\\ipykernel_32204\\1989065043.py\u001b[0m in \u001b[0;36m?\u001b[1;34m()\u001b[0m\n\u001b[0;32m      1\u001b[0m \u001b[0mdata_293T\u001b[0m \u001b[1;33m=\u001b[0m \u001b[0minteraction_data\u001b[0m\u001b[1;33m.\u001b[0m\u001b[0munique_293T\u001b[0m\u001b[1;33m\u001b[0m\u001b[1;33m\u001b[0m\u001b[0m\n\u001b[0;32m      2\u001b[0m \u001b[0mdata_HCT116\u001b[0m \u001b[1;33m=\u001b[0m \u001b[0minteraction_data\u001b[0m\u001b[1;33m.\u001b[0m\u001b[0munique_HCT116\u001b[0m\u001b[1;33m\u001b[0m\u001b[1;33m\u001b[0m\u001b[0m\n\u001b[1;32m----> 3\u001b[1;33m \u001b[0misoforms_293T\u001b[0m\u001b[1;33m,\u001b[0m \u001b[0mindex_293T\u001b[0m \u001b[1;33m=\u001b[0m \u001b[0mIsoformAnalyzer\u001b[0m\u001b[1;33m.\u001b[0m\u001b[0mget_dataset_count\u001b[0m\u001b[1;33m(\u001b[0m\u001b[0mdata_293T\u001b[0m\u001b[1;33m,\u001b[0m \u001b[0miso_lib\u001b[0m\u001b[1;33m)\u001b[0m\u001b[1;33m\u001b[0m\u001b[1;33m\u001b[0m\u001b[0m\n\u001b[0m\u001b[0;32m      4\u001b[0m \u001b[0misoforms_HCT116\u001b[0m\u001b[1;33m,\u001b[0m \u001b[0mindex_HCT116\u001b[0m \u001b[1;33m=\u001b[0m \u001b[0mIsoformAnalyzer\u001b[0m\u001b[1;33m.\u001b[0m\u001b[0mget_dataset_count\u001b[0m\u001b[1;33m(\u001b[0m\u001b[0mdata_HCT116\u001b[0m\u001b[1;33m,\u001b[0m \u001b[0miso_lib\u001b[0m\u001b[1;33m)\u001b[0m\u001b[1;33m\u001b[0m\u001b[1;33m\u001b[0m\u001b[0m\n",
      "\u001b[1;32mc:\\Users\\Jack\\Kod\\Kex-klon\\Exploring-cell-interactome\\IsoformAnalysis\\IsoformAnalyzer.py\u001b[0m in \u001b[0;36m?\u001b[1;34m(interaction_df, lib_df)\u001b[0m\n\u001b[0;32m     11\u001b[0m     \u001b[0mcan_lib_match\u001b[0m \u001b[1;33m=\u001b[0m \u001b[0mcan_lib_matcher\u001b[0m\u001b[1;33m(\u001b[0m\u001b[0munique_isoforms\u001b[0m\u001b[1;33m,\u001b[0m \u001b[0mlib_df\u001b[0m\u001b[1;33m)\u001b[0m\u001b[1;33m\u001b[0m\u001b[1;33m\u001b[0m\u001b[0m\n\u001b[0;32m     12\u001b[0m     \u001b[0mgene_lib_match\u001b[0m \u001b[1;33m=\u001b[0m \u001b[0mgene_lib_matcher\u001b[0m\u001b[1;33m(\u001b[0m \u001b[0munique_isoforms\u001b[0m\u001b[1;33m,\u001b[0m \u001b[0mlib_df\u001b[0m\u001b[1;33m)\u001b[0m\u001b[1;33m\u001b[0m\u001b[1;33m\u001b[0m\u001b[0m\n\u001b[0;32m     13\u001b[0m \u001b[1;33m\u001b[0m\u001b[0m\n\u001b[0;32m     14\u001b[0m     \u001b[0mlib_match\u001b[0m \u001b[1;33m=\u001b[0m \u001b[0maddition\u001b[0m\u001b[1;33m(\u001b[0m\u001b[0miso_lib_match\u001b[0m\u001b[1;33m,\u001b[0m \u001b[0mcan_lib_match\u001b[0m\u001b[1;33m,\u001b[0m \u001b[0mgene_lib_match\u001b[0m\u001b[1;33m,\u001b[0m \u001b[1;34m'isoform'\u001b[0m\u001b[1;33m)\u001b[0m\u001b[1;33m\u001b[0m\u001b[1;33m\u001b[0m\u001b[0m\n\u001b[1;32m---> 15\u001b[1;33m     \u001b[0mundefined_sorted\u001b[0m \u001b[1;33m=\u001b[0m \u001b[0msubtraction\u001b[0m\u001b[1;33m(\u001b[0m\u001b[0munique_isoforms\u001b[0m\u001b[1;33m,\u001b[0m \u001b[0mlib_match\u001b[0m\u001b[1;33m,\u001b[0m \u001b[1;34m'isoform'\u001b[0m\u001b[1;33m,\u001b[0m \u001b[1;34m'isoform'\u001b[0m\u001b[1;33m)\u001b[0m\u001b[1;33m\u001b[0m\u001b[1;33m\u001b[0m\u001b[0m\n\u001b[0m\u001b[0;32m     16\u001b[0m     \u001b[0mindex\u001b[0m \u001b[1;33m=\u001b[0m \u001b[0maddition\u001b[0m\u001b[1;33m(\u001b[0m\u001b[0mlib_match\u001b[0m\u001b[1;33m,\u001b[0m \u001b[0mundefined_sorted\u001b[0m\u001b[1;33m,\u001b[0m \u001b[1;32mNone\u001b[0m\u001b[1;33m,\u001b[0m \u001b[1;34m'isoform'\u001b[0m\u001b[1;33m)\u001b[0m\u001b[1;33m\u001b[0m\u001b[1;33m\u001b[0m\u001b[0m\n\u001b[0;32m     17\u001b[0m \u001b[1;33m\u001b[0m\u001b[0m\n\u001b[0;32m     18\u001b[0m     \u001b[0mproteins\u001b[0m \u001b[1;33m=\u001b[0m \u001b[0misoform_count\u001b[0m\u001b[1;33m(\u001b[0m\u001b[0mindex\u001b[0m\u001b[1;33m)\u001b[0m\u001b[1;33m\u001b[0m\u001b[1;33m\u001b[0m\u001b[0m\n",
      "\u001b[1;32mc:\\Users\\Jack\\Kod\\Kex-klon\\Exploring-cell-interactome\\IsoformAnalysis\\IsoformAnalyzer.py\u001b[0m in \u001b[0;36m?\u001b[1;34m(add_df, subtract_df, add_column, subtract_column)\u001b[0m\n\u001b[0;32m    137\u001b[0m     \u001b[0msum_sorted\u001b[0m \u001b[1;33m=\u001b[0m \u001b[0msum_sorted\u001b[0m\u001b[1;33m.\u001b[0m\u001b[0mloc\u001b[0m\u001b[1;33m[\u001b[0m\u001b[1;33m:\u001b[0m\u001b[1;33m,\u001b[0m \u001b[1;33m[\u001b[0m\u001b[1;34m'new_column'\u001b[0m\u001b[1;33m,\u001b[0m \u001b[0mdata_column_1\u001b[0m\u001b[1;33m,\u001b[0m \u001b[0mdata_column_2\u001b[0m\u001b[1;33m]\u001b[0m\u001b[1;33m]\u001b[0m\u001b[1;33m\u001b[0m\u001b[1;33m\u001b[0m\u001b[0m\n\u001b[0;32m    138\u001b[0m     \u001b[0msum_sorted\u001b[0m\u001b[1;33m.\u001b[0m\u001b[0mcolumns\u001b[0m \u001b[1;33m=\u001b[0m \u001b[1;33m[\u001b[0m\u001b[1;34m\"canonical_protein\"\u001b[0m\u001b[1;33m,\u001b[0m \u001b[0mdata_column_1\u001b[0m\u001b[1;33m,\u001b[0m \u001b[0mdata_column_2\u001b[0m\u001b[1;33m]\u001b[0m\u001b[1;33m\u001b[0m\u001b[1;33m\u001b[0m\u001b[0m\n\u001b[0;32m    139\u001b[0m \u001b[1;33m\u001b[0m\u001b[0m\n\u001b[0;32m    140\u001b[0m \u001b[1;33m\u001b[0m\u001b[0m\n\u001b[1;32m--> 141\u001b[1;33m     \u001b[1;32mreturn\u001b[0m \u001b[0msum_sorted\u001b[0m\u001b[1;33m.\u001b[0m\u001b[0msort\u001b[0m\u001b[1;33m(\u001b[0m\u001b[1;33m)\u001b[0m\u001b[1;33m\u001b[0m\u001b[1;33m\u001b[0m\u001b[0m\n\u001b[0m",
      "\u001b[1;32mc:\\Users\\Jack\\miniconda3\\envs\\Kex\\Lib\\site-packages\\pandas\\core\\generic.py\u001b[0m in \u001b[0;36m?\u001b[1;34m(self, name)\u001b[0m\n\u001b[0;32m   6198\u001b[0m             \u001b[1;32mand\u001b[0m \u001b[0mname\u001b[0m \u001b[1;32mnot\u001b[0m \u001b[1;32min\u001b[0m \u001b[0mself\u001b[0m\u001b[1;33m.\u001b[0m\u001b[0m_accessors\u001b[0m\u001b[1;33m\u001b[0m\u001b[1;33m\u001b[0m\u001b[0m\n\u001b[0;32m   6199\u001b[0m             \u001b[1;32mand\u001b[0m \u001b[0mself\u001b[0m\u001b[1;33m.\u001b[0m\u001b[0m_info_axis\u001b[0m\u001b[1;33m.\u001b[0m\u001b[0m_can_hold_identifiers_and_holds_name\u001b[0m\u001b[1;33m(\u001b[0m\u001b[0mname\u001b[0m\u001b[1;33m)\u001b[0m\u001b[1;33m\u001b[0m\u001b[1;33m\u001b[0m\u001b[0m\n\u001b[0;32m   6200\u001b[0m         ):\n\u001b[0;32m   6201\u001b[0m             \u001b[1;32mreturn\u001b[0m \u001b[0mself\u001b[0m\u001b[1;33m[\u001b[0m\u001b[0mname\u001b[0m\u001b[1;33m]\u001b[0m\u001b[1;33m\u001b[0m\u001b[1;33m\u001b[0m\u001b[0m\n\u001b[1;32m-> 6202\u001b[1;33m         \u001b[1;32mreturn\u001b[0m \u001b[0mobject\u001b[0m\u001b[1;33m.\u001b[0m\u001b[0m__getattribute__\u001b[0m\u001b[1;33m(\u001b[0m\u001b[0mself\u001b[0m\u001b[1;33m,\u001b[0m \u001b[0mname\u001b[0m\u001b[1;33m)\u001b[0m\u001b[1;33m\u001b[0m\u001b[1;33m\u001b[0m\u001b[0m\n\u001b[0m",
      "\u001b[1;31mAttributeError\u001b[0m: 'DataFrame' object has no attribute 'sort'"
     ]
    }
   ],
   "source": [
    "data_293T = interaction_data.unique_293T\n",
    "data_HCT116 = interaction_data.unique_HCT116\n",
    "isoforms_293T, index_293T = IsoformAnalyzer.get_dataset_count(data_293T, iso_lib)\n",
    "isoforms_HCT116, index_HCT116 = IsoformAnalyzer.get_dataset_count(data_HCT116, iso_lib)"
   ]
  },
  {
   "cell_type": "code",
   "execution_count": null,
   "metadata": {},
   "outputs": [],
   "source": [
    "isoforms_uniqueppi_293T = ProteinMatcher.get_uniqueppi_isoforms(data_293T, isoforms_293T, isoforms_HCT116, index_293T)\n",
    "isoforms_uniqueppi_HCT116 = ProteinMatcher.get_uniqueppi_isoforms(data_HCT116, isoforms_HCT116, isoforms_293T, index_HCT116)"
   ]
  },
  {
   "cell_type": "code",
   "execution_count": null,
   "metadata": {},
   "outputs": [
    {
     "name": "stderr",
     "output_type": "stream",
     "text": [
      "c:\\Users\\Jack\\Kod\\Kex-klon\\Exploring-cell-interactome\\IsoformAnalysis\\IsoformAnalyzer.py:156: FutureWarning: Setting an item of incompatible dtype is deprecated and will raise in a future error of pandas. Value 'A0AV02-2' has dtype incompatible with float64, please explicitly cast to a compatible dtype first.\n",
      "  dataset.loc[dataset['canonical_protein'] == data_column_1, f'isoform_{i}'] = data_column_2_value\n",
      "c:\\Users\\Jack\\Kod\\Kex-klon\\Exploring-cell-interactome\\IsoformAnalysis\\IsoformAnalyzer.py:156: FutureWarning: Setting an item of incompatible dtype is deprecated and will raise in a future error of pandas. Value 'A0AVT1' has dtype incompatible with float64, please explicitly cast to a compatible dtype first.\n",
      "  dataset.loc[dataset['canonical_protein'] == data_column_1, f'isoform_{i}'] = data_column_2_value\n"
     ]
    }
   ],
   "source": [
    "index_uppi = IsoformAnalyzer.addition(isoforms_uniqueppi_293T, isoforms_uniqueppi_HCT116, None, \"isoform\")\n",
    "proteins_uppi = IsoformAnalyzer.isoform_count(index_uppi)"
   ]
  },
  {
   "cell_type": "code",
   "execution_count": null,
   "metadata": {},
   "outputs": [
    {
     "data": {
      "text/html": [
       "<div>\n",
       "<style scoped>\n",
       "    .dataframe tbody tr th:only-of-type {\n",
       "        vertical-align: middle;\n",
       "    }\n",
       "\n",
       "    .dataframe tbody tr th {\n",
       "        vertical-align: top;\n",
       "    }\n",
       "\n",
       "    .dataframe thead th {\n",
       "        text-align: right;\n",
       "    }\n",
       "</style>\n",
       "<table border=\"1\" class=\"dataframe\">\n",
       "  <thead>\n",
       "    <tr style=\"text-align: right;\">\n",
       "      <th></th>\n",
       "      <th>canonical_protein</th>\n",
       "      <th>isoform_1</th>\n",
       "      <th>isoform_2</th>\n",
       "      <th>isoform_count</th>\n",
       "    </tr>\n",
       "  </thead>\n",
       "  <tbody>\n",
       "    <tr>\n",
       "      <th>0</th>\n",
       "      <td>A0AV02</td>\n",
       "      <td>A0AV02-2</td>\n",
       "      <td>NaN</td>\n",
       "      <td>1</td>\n",
       "    </tr>\n",
       "    <tr>\n",
       "      <th>1</th>\n",
       "      <td>A0AV96</td>\n",
       "      <td>A0AV96-2</td>\n",
       "      <td>NaN</td>\n",
       "      <td>1</td>\n",
       "    </tr>\n",
       "    <tr>\n",
       "      <th>2</th>\n",
       "      <td>A0AVT1</td>\n",
       "      <td>A0AVT1-2</td>\n",
       "      <td>A0AVT1</td>\n",
       "      <td>2</td>\n",
       "    </tr>\n",
       "    <tr>\n",
       "      <th>3</th>\n",
       "      <td>A0FGR8</td>\n",
       "      <td>A0FGR8-2</td>\n",
       "      <td>NaN</td>\n",
       "      <td>1</td>\n",
       "    </tr>\n",
       "    <tr>\n",
       "      <th>4</th>\n",
       "      <td>A0MZ66</td>\n",
       "      <td>A0MZ66-3</td>\n",
       "      <td>A0MZ66-2</td>\n",
       "      <td>2</td>\n",
       "    </tr>\n",
       "    <tr>\n",
       "      <th>...</th>\n",
       "      <td>...</td>\n",
       "      <td>...</td>\n",
       "      <td>...</td>\n",
       "      <td>...</td>\n",
       "    </tr>\n",
       "    <tr>\n",
       "      <th>7197</th>\n",
       "      <td>TWISTNB</td>\n",
       "      <td>Q3B726</td>\n",
       "      <td>NaN</td>\n",
       "      <td>1</td>\n",
       "    </tr>\n",
       "    <tr>\n",
       "      <th>7198</th>\n",
       "      <td>C2orf50</td>\n",
       "      <td>Q96LR7</td>\n",
       "      <td>NaN</td>\n",
       "      <td>1</td>\n",
       "    </tr>\n",
       "    <tr>\n",
       "      <th>7199</th>\n",
       "      <td>ARL11</td>\n",
       "      <td>Q969Q4</td>\n",
       "      <td>NaN</td>\n",
       "      <td>1</td>\n",
       "    </tr>\n",
       "    <tr>\n",
       "      <th>7200</th>\n",
       "      <td>LACTB2</td>\n",
       "      <td>Q53H82</td>\n",
       "      <td>NaN</td>\n",
       "      <td>1</td>\n",
       "    </tr>\n",
       "    <tr>\n",
       "      <th>7201</th>\n",
       "      <td>SHISA2</td>\n",
       "      <td>Q6UWI4</td>\n",
       "      <td>NaN</td>\n",
       "      <td>1</td>\n",
       "    </tr>\n",
       "  </tbody>\n",
       "</table>\n",
       "<p>7202 rows × 4 columns</p>\n",
       "</div>"
      ],
      "text/plain": [
       "     canonical_protein isoform_1 isoform_2  isoform_count\n",
       "0               A0AV02  A0AV02-2       NaN              1\n",
       "1               A0AV96  A0AV96-2       NaN              1\n",
       "2               A0AVT1  A0AVT1-2    A0AVT1              2\n",
       "3               A0FGR8  A0FGR8-2       NaN              1\n",
       "4               A0MZ66  A0MZ66-3  A0MZ66-2              2\n",
       "...                ...       ...       ...            ...\n",
       "7197           TWISTNB    Q3B726       NaN              1\n",
       "7198           C2orf50    Q96LR7       NaN              1\n",
       "7199             ARL11    Q969Q4       NaN              1\n",
       "7200            LACTB2    Q53H82       NaN              1\n",
       "7201            SHISA2    Q6UWI4       NaN              1\n",
       "\n",
       "[7202 rows x 4 columns]"
      ]
     },
     "execution_count": 9,
     "metadata": {},
     "output_type": "execute_result"
    }
   ],
   "source": [
    "proteins_uppi"
   ]
  },
  {
   "cell_type": "code",
   "execution_count": null,
   "metadata": {},
   "outputs": [
    {
     "ename": "ValueError",
     "evalue": "Axis limits cannot be NaN or Inf",
     "output_type": "error",
     "traceback": [
      "\u001b[1;31m---------------------------------------------------------------------------\u001b[0m",
      "\u001b[1;31mValueError\u001b[0m                                Traceback (most recent call last)",
      "Cell \u001b[1;32mIn[8], line 1\u001b[0m\n\u001b[1;32m----> 1\u001b[0m \u001b[43mIsoformAnalyzer\u001b[49m\u001b[38;5;241;43m.\u001b[39;49m\u001b[43misoform_distribution\u001b[49m\u001b[43m(\u001b[49m\u001b[43mproteins_uppi\u001b[49m\u001b[43m)\u001b[49m\n",
      "File \u001b[1;32mc:\\Users\\Jack\\Kod\\Kex-klon\\Exploring-cell-interactome\\IsoformAnalysis\\IsoformAnalyzer.py:48\u001b[0m, in \u001b[0;36misoform_distribution\u001b[1;34m(proteins)\u001b[0m\n\u001b[0;32m     46\u001b[0m ax2\u001b[38;5;241m.\u001b[39mset_xticks(zoomed_data[\u001b[38;5;124m'\u001b[39m\u001b[38;5;124misoform_count\u001b[39m\u001b[38;5;124m'\u001b[39m])\n\u001b[0;32m     47\u001b[0m ax2\u001b[38;5;241m.\u001b[39mtick_params(axis\u001b[38;5;241m=\u001b[39m\u001b[38;5;124m'\u001b[39m\u001b[38;5;124mboth\u001b[39m\u001b[38;5;124m'\u001b[39m, which\u001b[38;5;241m=\u001b[39m\u001b[38;5;124m'\u001b[39m\u001b[38;5;124mmajor\u001b[39m\u001b[38;5;124m'\u001b[39m)\n\u001b[1;32m---> 48\u001b[0m \u001b[43max2\u001b[49m\u001b[38;5;241;43m.\u001b[39;49m\u001b[43mset_ylim\u001b[49m\u001b[43m(\u001b[49m\u001b[38;5;241;43m0\u001b[39;49m\u001b[43m,\u001b[49m\u001b[43m \u001b[49m\u001b[38;5;241;43m1.2\u001b[39;49m\u001b[43m \u001b[49m\u001b[38;5;241;43m*\u001b[39;49m\u001b[43m \u001b[49m\u001b[43mzoomed_data\u001b[49m\u001b[43m[\u001b[49m\u001b[38;5;124;43m'\u001b[39;49m\u001b[38;5;124;43mfrequency (\u001b[39;49m\u001b[38;5;124;43m%\u001b[39;49m\u001b[38;5;124;43m)\u001b[39;49m\u001b[38;5;124;43m'\u001b[39;49m\u001b[43m]\u001b[49m\u001b[38;5;241;43m.\u001b[39;49m\u001b[43mmax\u001b[49m\u001b[43m(\u001b[49m\u001b[43m)\u001b[49m\u001b[43m)\u001b[49m\n\u001b[0;32m     50\u001b[0m fig\u001b[38;5;241m.\u001b[39mtight_layout()\n\u001b[0;32m     51\u001b[0m plt\u001b[38;5;241m.\u001b[39mshow()\n",
      "File \u001b[1;32mc:\\Users\\Jack\\miniconda3\\envs\\Kex\\Lib\\site-packages\\matplotlib\\_api\\deprecation.py:454\u001b[0m, in \u001b[0;36mmake_keyword_only.<locals>.wrapper\u001b[1;34m(*args, **kwargs)\u001b[0m\n\u001b[0;32m    448\u001b[0m \u001b[38;5;28;01mif\u001b[39;00m \u001b[38;5;28mlen\u001b[39m(args) \u001b[38;5;241m>\u001b[39m name_idx:\n\u001b[0;32m    449\u001b[0m     warn_deprecated(\n\u001b[0;32m    450\u001b[0m         since, message\u001b[38;5;241m=\u001b[39m\u001b[38;5;124m\"\u001b[39m\u001b[38;5;124mPassing the \u001b[39m\u001b[38;5;132;01m%(name)s\u001b[39;00m\u001b[38;5;124m \u001b[39m\u001b[38;5;132;01m%(obj_type)s\u001b[39;00m\u001b[38;5;124m \u001b[39m\u001b[38;5;124m\"\u001b[39m\n\u001b[0;32m    451\u001b[0m         \u001b[38;5;124m\"\u001b[39m\u001b[38;5;124mpositionally is deprecated since Matplotlib \u001b[39m\u001b[38;5;132;01m%(since)s\u001b[39;00m\u001b[38;5;124m; the \u001b[39m\u001b[38;5;124m\"\u001b[39m\n\u001b[0;32m    452\u001b[0m         \u001b[38;5;124m\"\u001b[39m\u001b[38;5;124mparameter will become keyword-only \u001b[39m\u001b[38;5;132;01m%(removal)s\u001b[39;00m\u001b[38;5;124m.\u001b[39m\u001b[38;5;124m\"\u001b[39m,\n\u001b[0;32m    453\u001b[0m         name\u001b[38;5;241m=\u001b[39mname, obj_type\u001b[38;5;241m=\u001b[39m\u001b[38;5;124mf\u001b[39m\u001b[38;5;124m\"\u001b[39m\u001b[38;5;124mparameter of \u001b[39m\u001b[38;5;132;01m{\u001b[39;00mfunc\u001b[38;5;241m.\u001b[39m\u001b[38;5;18m__name__\u001b[39m\u001b[38;5;132;01m}\u001b[39;00m\u001b[38;5;124m()\u001b[39m\u001b[38;5;124m\"\u001b[39m)\n\u001b[1;32m--> 454\u001b[0m \u001b[38;5;28;01mreturn\u001b[39;00m \u001b[43mfunc\u001b[49m\u001b[43m(\u001b[49m\u001b[38;5;241;43m*\u001b[39;49m\u001b[43margs\u001b[49m\u001b[43m,\u001b[49m\u001b[43m \u001b[49m\u001b[38;5;241;43m*\u001b[39;49m\u001b[38;5;241;43m*\u001b[39;49m\u001b[43mkwargs\u001b[49m\u001b[43m)\u001b[49m\n",
      "File \u001b[1;32mc:\\Users\\Jack\\miniconda3\\envs\\Kex\\Lib\\site-packages\\matplotlib\\axes\\_base.py:3882\u001b[0m, in \u001b[0;36m_AxesBase.set_ylim\u001b[1;34m(self, bottom, top, emit, auto, ymin, ymax)\u001b[0m\n\u001b[0;32m   3880\u001b[0m         \u001b[38;5;28;01mraise\u001b[39;00m \u001b[38;5;167;01mTypeError\u001b[39;00m(\u001b[38;5;124m\"\u001b[39m\u001b[38;5;124mCannot pass both \u001b[39m\u001b[38;5;124m'\u001b[39m\u001b[38;5;124mtop\u001b[39m\u001b[38;5;124m'\u001b[39m\u001b[38;5;124m and \u001b[39m\u001b[38;5;124m'\u001b[39m\u001b[38;5;124mymax\u001b[39m\u001b[38;5;124m'\u001b[39m\u001b[38;5;124m\"\u001b[39m)\n\u001b[0;32m   3881\u001b[0m     top \u001b[38;5;241m=\u001b[39m ymax\n\u001b[1;32m-> 3882\u001b[0m \u001b[38;5;28;01mreturn\u001b[39;00m \u001b[38;5;28;43mself\u001b[39;49m\u001b[38;5;241;43m.\u001b[39;49m\u001b[43myaxis\u001b[49m\u001b[38;5;241;43m.\u001b[39;49m\u001b[43m_set_lim\u001b[49m\u001b[43m(\u001b[49m\u001b[43mbottom\u001b[49m\u001b[43m,\u001b[49m\u001b[43m \u001b[49m\u001b[43mtop\u001b[49m\u001b[43m,\u001b[49m\u001b[43m \u001b[49m\u001b[43memit\u001b[49m\u001b[38;5;241;43m=\u001b[39;49m\u001b[43memit\u001b[49m\u001b[43m,\u001b[49m\u001b[43m \u001b[49m\u001b[43mauto\u001b[49m\u001b[38;5;241;43m=\u001b[39;49m\u001b[43mauto\u001b[49m\u001b[43m)\u001b[49m\n",
      "File \u001b[1;32mc:\\Users\\Jack\\miniconda3\\envs\\Kex\\Lib\\site-packages\\matplotlib\\axis.py:1185\u001b[0m, in \u001b[0;36mAxis._set_lim\u001b[1;34m(self, v0, v1, emit, auto)\u001b[0m\n\u001b[0;32m   1183\u001b[0m \u001b[38;5;28mself\u001b[39m\u001b[38;5;241m.\u001b[39maxes\u001b[38;5;241m.\u001b[39m_process_unit_info([(name, (v0, v1))], convert\u001b[38;5;241m=\u001b[39m\u001b[38;5;28;01mFalse\u001b[39;00m)\n\u001b[0;32m   1184\u001b[0m v0 \u001b[38;5;241m=\u001b[39m \u001b[38;5;28mself\u001b[39m\u001b[38;5;241m.\u001b[39maxes\u001b[38;5;241m.\u001b[39m_validate_converted_limits(v0, \u001b[38;5;28mself\u001b[39m\u001b[38;5;241m.\u001b[39mconvert_units)\n\u001b[1;32m-> 1185\u001b[0m v1 \u001b[38;5;241m=\u001b[39m \u001b[38;5;28;43mself\u001b[39;49m\u001b[38;5;241;43m.\u001b[39;49m\u001b[43maxes\u001b[49m\u001b[38;5;241;43m.\u001b[39;49m\u001b[43m_validate_converted_limits\u001b[49m\u001b[43m(\u001b[49m\u001b[43mv1\u001b[49m\u001b[43m,\u001b[49m\u001b[43m \u001b[49m\u001b[38;5;28;43mself\u001b[39;49m\u001b[38;5;241;43m.\u001b[39;49m\u001b[43mconvert_units\u001b[49m\u001b[43m)\u001b[49m\n\u001b[0;32m   1187\u001b[0m \u001b[38;5;28;01mif\u001b[39;00m v0 \u001b[38;5;129;01mis\u001b[39;00m \u001b[38;5;28;01mNone\u001b[39;00m \u001b[38;5;129;01mor\u001b[39;00m v1 \u001b[38;5;129;01mis\u001b[39;00m \u001b[38;5;28;01mNone\u001b[39;00m:\n\u001b[0;32m   1188\u001b[0m     \u001b[38;5;66;03m# Axes init calls set_xlim(0, 1) before get_xlim() can be called,\u001b[39;00m\n\u001b[0;32m   1189\u001b[0m     \u001b[38;5;66;03m# so only grab the limits if we really need them.\u001b[39;00m\n\u001b[0;32m   1190\u001b[0m     old0, old1 \u001b[38;5;241m=\u001b[39m \u001b[38;5;28mself\u001b[39m\u001b[38;5;241m.\u001b[39mget_view_interval()\n",
      "File \u001b[1;32mc:\\Users\\Jack\\miniconda3\\envs\\Kex\\Lib\\site-packages\\matplotlib\\axes\\_base.py:3570\u001b[0m, in \u001b[0;36m_AxesBase._validate_converted_limits\u001b[1;34m(self, limit, convert)\u001b[0m\n\u001b[0;32m   3567\u001b[0m converted_limit \u001b[38;5;241m=\u001b[39m convert(limit)\n\u001b[0;32m   3568\u001b[0m \u001b[38;5;28;01mif\u001b[39;00m (\u001b[38;5;28misinstance\u001b[39m(converted_limit, Real)\n\u001b[0;32m   3569\u001b[0m         \u001b[38;5;129;01mand\u001b[39;00m \u001b[38;5;129;01mnot\u001b[39;00m np\u001b[38;5;241m.\u001b[39misfinite(converted_limit)):\n\u001b[1;32m-> 3570\u001b[0m     \u001b[38;5;28;01mraise\u001b[39;00m \u001b[38;5;167;01mValueError\u001b[39;00m(\u001b[38;5;124m\"\u001b[39m\u001b[38;5;124mAxis limits cannot be NaN or Inf\u001b[39m\u001b[38;5;124m\"\u001b[39m)\n\u001b[0;32m   3571\u001b[0m \u001b[38;5;28;01mreturn\u001b[39;00m converted_limit\n",
      "\u001b[1;31mValueError\u001b[0m: Axis limits cannot be NaN or Inf"
     ]
    },
    {
     "data": {
      "image/png": "[encoded data removed]",
      "text/plain": [
       "<Figure size 1000x600 with 1 Axes>"
      ]
     },
     "metadata": {},
     "output_type": "display_data"
    }
   ],
   "source": [
    "IsoformAnalyzer.isoform_distribution(proteins_uppi)"
   ]
  }
 ],
 "metadata": {
  "kernelspec": {
   "display_name": "kd1500",
   "language": "python",
   "name": "python3"
  },
  "language_info": {
   "codemirror_mode": {
    "name": "ipython",
    "version": 3
   },
   "file_extension": ".py",
   "mimetype": "text/x-python",
   "name": "python",
   "nbconvert_exporter": "python",
   "pygments_lexer": "ipython3",
   "version": "3.11.5"
  }
 },
 "nbformat": 4,
 "nbformat_minor": 2
}
